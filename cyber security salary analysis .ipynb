{
 "cells": [
  {
   "cell_type": "markdown",
   "id": "9d27c77f",
   "metadata": {},
   "source": [
    "this is tha data about the  salary of the cyber securirty \n",
    "in this  i have done some sort of a analysis process on that data step by step and at last of that colunns i am also going to write about the conclusion of that data analysis \n"
   ]
  },
  {
   "cell_type": "code",
   "execution_count": 1,
   "id": "ede4a3a7",
   "metadata": {},
   "outputs": [],
   "source": [
    "# importing the libraries \n",
    "import pandas as pd \n",
    "import matplotlib.pyplot as plt\n",
    "import seaborn as sns "
   ]
  },
  {
   "cell_type": "code",
   "execution_count": 2,
   "id": "730e2d28",
   "metadata": {},
   "outputs": [],
   "source": [
    "df = pd.read_csv(\"Cyber_salaries.csv\")"
   ]
  },
  {
   "cell_type": "code",
   "execution_count": 3,
   "id": "1b896ee3",
   "metadata": {},
   "outputs": [
    {
     "data": {
      "text/html": [
       "<div>\n",
       "<style scoped>\n",
       "    .dataframe tbody tr th:only-of-type {\n",
       "        vertical-align: middle;\n",
       "    }\n",
       "\n",
       "    .dataframe tbody tr th {\n",
       "        vertical-align: top;\n",
       "    }\n",
       "\n",
       "    .dataframe thead th {\n",
       "        text-align: right;\n",
       "    }\n",
       "</style>\n",
       "<table border=\"1\" class=\"dataframe\">\n",
       "  <thead>\n",
       "    <tr style=\"text-align: right;\">\n",
       "      <th></th>\n",
       "      <th>work_year</th>\n",
       "      <th>experience_level</th>\n",
       "      <th>employment_type</th>\n",
       "      <th>job_title</th>\n",
       "      <th>salary</th>\n",
       "      <th>salary_currency</th>\n",
       "      <th>salary_in_usd</th>\n",
       "      <th>employee_residence</th>\n",
       "      <th>remote_ratio</th>\n",
       "      <th>company_location</th>\n",
       "      <th>company_size</th>\n",
       "    </tr>\n",
       "  </thead>\n",
       "  <tbody>\n",
       "    <tr>\n",
       "      <th>0</th>\n",
       "      <td>2022</td>\n",
       "      <td>EN</td>\n",
       "      <td>FT</td>\n",
       "      <td>Information Security Officer</td>\n",
       "      <td>68000</td>\n",
       "      <td>EUR</td>\n",
       "      <td>72762</td>\n",
       "      <td>DE</td>\n",
       "      <td>100</td>\n",
       "      <td>DE</td>\n",
       "      <td>S</td>\n",
       "    </tr>\n",
       "    <tr>\n",
       "      <th>1</th>\n",
       "      <td>2022</td>\n",
       "      <td>SE</td>\n",
       "      <td>FT</td>\n",
       "      <td>Security Officer</td>\n",
       "      <td>123400</td>\n",
       "      <td>USD</td>\n",
       "      <td>123400</td>\n",
       "      <td>US</td>\n",
       "      <td>0</td>\n",
       "      <td>US</td>\n",
       "      <td>M</td>\n",
       "    </tr>\n",
       "    <tr>\n",
       "      <th>2</th>\n",
       "      <td>2022</td>\n",
       "      <td>SE</td>\n",
       "      <td>FT</td>\n",
       "      <td>Security Officer</td>\n",
       "      <td>88100</td>\n",
       "      <td>USD</td>\n",
       "      <td>88100</td>\n",
       "      <td>US</td>\n",
       "      <td>0</td>\n",
       "      <td>US</td>\n",
       "      <td>M</td>\n",
       "    </tr>\n",
       "    <tr>\n",
       "      <th>3</th>\n",
       "      <td>2022</td>\n",
       "      <td>SE</td>\n",
       "      <td>FT</td>\n",
       "      <td>Security Engineer</td>\n",
       "      <td>163575</td>\n",
       "      <td>USD</td>\n",
       "      <td>163575</td>\n",
       "      <td>US</td>\n",
       "      <td>100</td>\n",
       "      <td>US</td>\n",
       "      <td>M</td>\n",
       "    </tr>\n",
       "    <tr>\n",
       "      <th>4</th>\n",
       "      <td>2022</td>\n",
       "      <td>SE</td>\n",
       "      <td>FT</td>\n",
       "      <td>Security Engineer</td>\n",
       "      <td>115800</td>\n",
       "      <td>USD</td>\n",
       "      <td>115800</td>\n",
       "      <td>US</td>\n",
       "      <td>100</td>\n",
       "      <td>US</td>\n",
       "      <td>M</td>\n",
       "    </tr>\n",
       "    <tr>\n",
       "      <th>5</th>\n",
       "      <td>2022</td>\n",
       "      <td>MI</td>\n",
       "      <td>FT</td>\n",
       "      <td>Penetration Testing Engineer</td>\n",
       "      <td>40000</td>\n",
       "      <td>EUR</td>\n",
       "      <td>42801</td>\n",
       "      <td>CY</td>\n",
       "      <td>100</td>\n",
       "      <td>CY</td>\n",
       "      <td>L</td>\n",
       "    </tr>\n",
       "    <tr>\n",
       "      <th>6</th>\n",
       "      <td>2022</td>\n",
       "      <td>SE</td>\n",
       "      <td>FT</td>\n",
       "      <td>Security Analyst</td>\n",
       "      <td>136600</td>\n",
       "      <td>USD</td>\n",
       "      <td>136600</td>\n",
       "      <td>US</td>\n",
       "      <td>100</td>\n",
       "      <td>US</td>\n",
       "      <td>M</td>\n",
       "    </tr>\n",
       "    <tr>\n",
       "      <th>7</th>\n",
       "      <td>2022</td>\n",
       "      <td>SE</td>\n",
       "      <td>FT</td>\n",
       "      <td>Security Analyst</td>\n",
       "      <td>109280</td>\n",
       "      <td>USD</td>\n",
       "      <td>109280</td>\n",
       "      <td>US</td>\n",
       "      <td>100</td>\n",
       "      <td>US</td>\n",
       "      <td>M</td>\n",
       "    </tr>\n",
       "    <tr>\n",
       "      <th>8</th>\n",
       "      <td>2022</td>\n",
       "      <td>SE</td>\n",
       "      <td>FT</td>\n",
       "      <td>Security Engineer</td>\n",
       "      <td>211600</td>\n",
       "      <td>USD</td>\n",
       "      <td>211600</td>\n",
       "      <td>US</td>\n",
       "      <td>100</td>\n",
       "      <td>US</td>\n",
       "      <td>M</td>\n",
       "    </tr>\n",
       "    <tr>\n",
       "      <th>9</th>\n",
       "      <td>2022</td>\n",
       "      <td>SE</td>\n",
       "      <td>FT</td>\n",
       "      <td>Security Engineer</td>\n",
       "      <td>182160</td>\n",
       "      <td>USD</td>\n",
       "      <td>182160</td>\n",
       "      <td>US</td>\n",
       "      <td>100</td>\n",
       "      <td>US</td>\n",
       "      <td>M</td>\n",
       "    </tr>\n",
       "  </tbody>\n",
       "</table>\n",
       "</div>"
      ],
      "text/plain": [
       "   work_year experience_level employment_type                     job_title  \\\n",
       "0       2022               EN              FT  Information Security Officer   \n",
       "1       2022               SE              FT              Security Officer   \n",
       "2       2022               SE              FT              Security Officer   \n",
       "3       2022               SE              FT             Security Engineer   \n",
       "4       2022               SE              FT             Security Engineer   \n",
       "5       2022               MI              FT  Penetration Testing Engineer   \n",
       "6       2022               SE              FT              Security Analyst   \n",
       "7       2022               SE              FT              Security Analyst   \n",
       "8       2022               SE              FT             Security Engineer   \n",
       "9       2022               SE              FT             Security Engineer   \n",
       "\n",
       "   salary salary_currency  salary_in_usd employee_residence  remote_ratio  \\\n",
       "0   68000             EUR          72762                 DE           100   \n",
       "1  123400             USD         123400                 US             0   \n",
       "2   88100             USD          88100                 US             0   \n",
       "3  163575             USD         163575                 US           100   \n",
       "4  115800             USD         115800                 US           100   \n",
       "5   40000             EUR          42801                 CY           100   \n",
       "6  136600             USD         136600                 US           100   \n",
       "7  109280             USD         109280                 US           100   \n",
       "8  211600             USD         211600                 US           100   \n",
       "9  182160             USD         182160                 US           100   \n",
       "\n",
       "  company_location company_size  \n",
       "0               DE            S  \n",
       "1               US            M  \n",
       "2               US            M  \n",
       "3               US            M  \n",
       "4               US            M  \n",
       "5               CY            L  \n",
       "6               US            M  \n",
       "7               US            M  \n",
       "8               US            M  \n",
       "9               US            M  "
      ]
     },
     "execution_count": 3,
     "metadata": {},
     "output_type": "execute_result"
    }
   ],
   "source": [
    "df.head(10)"
   ]
  },
  {
   "cell_type": "code",
   "execution_count": 4,
   "id": "ef9bca92",
   "metadata": {},
   "outputs": [],
   "source": [
    "#Working Year\tThe year the salary was paid\n",
    "\n",
    "#Job Title\tThe role worked in during the year\n",
    "#Experience Level\tThe experience level in the job during the year. [ EN - Entry level / Junior, MI - Mid level / Intermediate, SE - Senior level / Expert, EX - Executive level / Director ]\n",
    "#Job status\tThe type of employment for the role. [ PT - Part time, FT - Full time, CT - Contract, FL - Freelance ]\n",
    "#Salary\tThe total gross salary amount paid.\n",
    "#Salary Currency\tThe currency of the salary paid as an ISO 4217 currency code.\n",
    "#Salary in usd\tThe salary in USD (FX rate divided by avg. USD rate for the respective year via fxdata.foorilla.com).\n",
    "#Employee Location\tEmployee's primary country of residence in during the work year as an ISO 3166 country code.( PFB Link to ISO 3166 country code )\n",
    "#Company Location\tThe country of the employer's main office or contracting branch.\n",
    "#Company Size\tThe median number of people that worked for the company during the year. [ S(small) - Less than 50 employees , M(medium) - 50 to 250 employees , L(large) - More than 250 employees ]\n",
    "#Remote Working Ratio\tThe overall amount of work done remotely. [ 0 - No Remote Work (less than 20%), 50 - Partially Remote, 100 - Fully Remote (more than 80%) ]"
   ]
  },
  {
   "cell_type": "markdown",
   "id": "2bd467da",
   "metadata": {},
   "source": [
    "#  Lets find about the number of rows and columns are present in our data set"
   ]
  },
  {
   "cell_type": "code",
   "execution_count": 5,
   "id": "306ac4bd",
   "metadata": {},
   "outputs": [
    {
     "name": "stdout",
     "output_type": "stream",
     "text": [
      "number of rows -  11\n",
      "number of columns -  1349\n"
     ]
    }
   ],
   "source": [
    "print(\"number of rows - \" ,df.shape[1])\n",
    "print(\"number of columns - \" ,df.shape[0])"
   ]
  },
  {
   "cell_type": "code",
   "execution_count": 6,
   "id": "e866cb44",
   "metadata": {},
   "outputs": [
    {
     "data": {
      "text/html": [
       "<div>\n",
       "<style scoped>\n",
       "    .dataframe tbody tr th:only-of-type {\n",
       "        vertical-align: middle;\n",
       "    }\n",
       "\n",
       "    .dataframe tbody tr th {\n",
       "        vertical-align: top;\n",
       "    }\n",
       "\n",
       "    .dataframe thead th {\n",
       "        text-align: right;\n",
       "    }\n",
       "</style>\n",
       "<table border=\"1\" class=\"dataframe\">\n",
       "  <thead>\n",
       "    <tr style=\"text-align: right;\">\n",
       "      <th></th>\n",
       "      <th>work_year</th>\n",
       "      <th>experience_level</th>\n",
       "      <th>employment_type</th>\n",
       "      <th>job_title</th>\n",
       "      <th>salary</th>\n",
       "      <th>salary_currency</th>\n",
       "      <th>salary_in_usd</th>\n",
       "      <th>employee_residence</th>\n",
       "      <th>remote_ratio</th>\n",
       "      <th>company_location</th>\n",
       "      <th>company_size</th>\n",
       "    </tr>\n",
       "  </thead>\n",
       "  <tbody>\n",
       "    <tr>\n",
       "      <th>0</th>\n",
       "      <td>2022</td>\n",
       "      <td>EN</td>\n",
       "      <td>FT</td>\n",
       "      <td>Information Security Officer</td>\n",
       "      <td>68000</td>\n",
       "      <td>EUR</td>\n",
       "      <td>72762</td>\n",
       "      <td>DE</td>\n",
       "      <td>100</td>\n",
       "      <td>DE</td>\n",
       "      <td>S</td>\n",
       "    </tr>\n",
       "  </tbody>\n",
       "</table>\n",
       "</div>"
      ],
      "text/plain": [
       "   work_year experience_level employment_type                     job_title  \\\n",
       "0       2022               EN              FT  Information Security Officer   \n",
       "\n",
       "   salary salary_currency  salary_in_usd employee_residence  remote_ratio  \\\n",
       "0   68000             EUR          72762                 DE           100   \n",
       "\n",
       "  company_location company_size  \n",
       "0               DE            S  "
      ]
     },
     "execution_count": 6,
     "metadata": {},
     "output_type": "execute_result"
    }
   ],
   "source": [
    "df.head(1)"
   ]
  },
  {
   "cell_type": "markdown",
   "id": "d8551eef",
   "metadata": {},
   "source": [
    "As we see in our dataset that the salary has the three columns one was denoting the salary  , other was denoting its currency and the final one was denoting the salary in single currency. As the pespective of the data analysis \n",
    "we can remove the salary and salary_currenccy columns and keep the salary_in_usd columns because in that columns the salary was in single currency "
   ]
  },
  {
   "cell_type": "markdown",
   "id": "30001f09",
   "metadata": {},
   "source": [
    "# Lets remove salary and salary_currency columns "
   ]
  },
  {
   "cell_type": "code",
   "execution_count": 7,
   "id": "fb3b0bf9",
   "metadata": {},
   "outputs": [],
   "source": [
    "df=df.drop(['salary', 'salary_currency'], axis=1)"
   ]
  },
  {
   "cell_type": "code",
   "execution_count": 8,
   "id": "d25161e8",
   "metadata": {},
   "outputs": [
    {
     "data": {
      "text/plain": [
       "Index(['work_year', 'experience_level', 'employment_type', 'job_title',\n",
       "       'salary_in_usd', 'employee_residence', 'remote_ratio',\n",
       "       'company_location', 'company_size'],\n",
       "      dtype='object')"
      ]
     },
     "execution_count": 8,
     "metadata": {},
     "output_type": "execute_result"
    }
   ],
   "source": [
    "df.columns "
   ]
  },
  {
   "cell_type": "code",
   "execution_count": 9,
   "id": "e0b62596",
   "metadata": {},
   "outputs": [
    {
     "data": {
      "text/html": [
       "<div>\n",
       "<style scoped>\n",
       "    .dataframe tbody tr th:only-of-type {\n",
       "        vertical-align: middle;\n",
       "    }\n",
       "\n",
       "    .dataframe tbody tr th {\n",
       "        vertical-align: top;\n",
       "    }\n",
       "\n",
       "    .dataframe thead th {\n",
       "        text-align: right;\n",
       "    }\n",
       "</style>\n",
       "<table border=\"1\" class=\"dataframe\">\n",
       "  <thead>\n",
       "    <tr style=\"text-align: right;\">\n",
       "      <th></th>\n",
       "      <th>work_year</th>\n",
       "      <th>experience_level</th>\n",
       "      <th>employment_type</th>\n",
       "      <th>job_title</th>\n",
       "      <th>salary_in_usd</th>\n",
       "      <th>employee_residence</th>\n",
       "      <th>remote_ratio</th>\n",
       "      <th>company_location</th>\n",
       "      <th>company_size</th>\n",
       "    </tr>\n",
       "  </thead>\n",
       "  <tbody>\n",
       "    <tr>\n",
       "      <th>0</th>\n",
       "      <td>2022</td>\n",
       "      <td>EN</td>\n",
       "      <td>FT</td>\n",
       "      <td>Information Security Officer</td>\n",
       "      <td>72762</td>\n",
       "      <td>DE</td>\n",
       "      <td>100</td>\n",
       "      <td>DE</td>\n",
       "      <td>S</td>\n",
       "    </tr>\n",
       "  </tbody>\n",
       "</table>\n",
       "</div>"
      ],
      "text/plain": [
       "   work_year experience_level employment_type                     job_title  \\\n",
       "0       2022               EN              FT  Information Security Officer   \n",
       "\n",
       "   salary_in_usd employee_residence  remote_ratio company_location  \\\n",
       "0          72762                 DE           100               DE   \n",
       "\n",
       "  company_size  \n",
       "0            S  "
      ]
     },
     "execution_count": 9,
     "metadata": {},
     "output_type": "execute_result"
    }
   ],
   "source": [
    "df.head(1)"
   ]
  },
  {
   "cell_type": "markdown",
   "id": "7a0be497",
   "metadata": {},
   "source": [
    "# Lets find out about the null value "
   ]
  },
  {
   "cell_type": "code",
   "execution_count": 10,
   "id": "4235d64b",
   "metadata": {},
   "outputs": [
    {
     "data": {
      "text/plain": [
       "work_year             0\n",
       "experience_level      0\n",
       "employment_type       0\n",
       "job_title             0\n",
       "salary_in_usd         0\n",
       "employee_residence    0\n",
       "remote_ratio          0\n",
       "company_location      0\n",
       "company_size          0\n",
       "dtype: int64"
      ]
     },
     "execution_count": 10,
     "metadata": {},
     "output_type": "execute_result"
    }
   ],
   "source": [
    "df.isnull().sum()"
   ]
  },
  {
   "cell_type": "code",
   "execution_count": 11,
   "id": "f3b2153f",
   "metadata": {},
   "outputs": [],
   "source": [
    "# so we found that the data have no null value "
   ]
  },
  {
   "cell_type": "markdown",
   "id": "3a6d6fd9",
   "metadata": {},
   "source": [
    "# check data type of each columns "
   ]
  },
  {
   "cell_type": "code",
   "execution_count": 12,
   "id": "388ebca2",
   "metadata": {},
   "outputs": [
    {
     "name": "stdout",
     "output_type": "stream",
     "text": [
      "<class 'pandas.core.frame.DataFrame'>\n",
      "RangeIndex: 1349 entries, 0 to 1348\n",
      "Data columns (total 9 columns):\n",
      " #   Column              Non-Null Count  Dtype \n",
      "---  ------              --------------  ----- \n",
      " 0   work_year           1349 non-null   int64 \n",
      " 1   experience_level    1349 non-null   object\n",
      " 2   employment_type     1349 non-null   object\n",
      " 3   job_title           1349 non-null   object\n",
      " 4   salary_in_usd       1349 non-null   int64 \n",
      " 5   employee_residence  1349 non-null   object\n",
      " 6   remote_ratio        1349 non-null   int64 \n",
      " 7   company_location    1349 non-null   object\n",
      " 8   company_size        1349 non-null   object\n",
      "dtypes: int64(3), object(6)\n",
      "memory usage: 95.0+ KB\n"
     ]
    }
   ],
   "source": [
    "df.info()"
   ]
  },
  {
   "cell_type": "markdown",
   "id": "3280f696",
   "metadata": {},
   "source": [
    "# Which department have the maximum salary "
   ]
  },
  {
   "cell_type": "code",
   "execution_count": 13,
   "id": "0a17d86a",
   "metadata": {},
   "outputs": [
    {
     "data": {
      "text/plain": [
       "899920"
      ]
     },
     "execution_count": 13,
     "metadata": {},
     "output_type": "execute_result"
    }
   ],
   "source": [
    "df['salary_in_usd'].max()"
   ]
  },
  {
   "cell_type": "code",
   "execution_count": 14,
   "id": "d2d0e3c2",
   "metadata": {},
   "outputs": [
    {
     "data": {
      "text/plain": [
       "614    Detection Engineer\n",
       "Name: job_title, dtype: object"
      ]
     },
     "execution_count": 14,
     "metadata": {},
     "output_type": "execute_result"
    }
   ],
   "source": [
    "df[df['salary_in_usd']==899920]['job_title']"
   ]
  },
  {
   "cell_type": "code",
   "execution_count": 15,
   "id": "bdf2d61c",
   "metadata": {},
   "outputs": [],
   "source": [
    "# Which department have the minimum salary "
   ]
  },
  {
   "cell_type": "code",
   "execution_count": 16,
   "id": "ed54d098",
   "metadata": {},
   "outputs": [
    {
     "data": {
      "text/plain": [
       "2000"
      ]
     },
     "execution_count": 16,
     "metadata": {},
     "output_type": "execute_result"
    }
   ],
   "source": [
    "df['salary_in_usd'].min()"
   ]
  },
  {
   "cell_type": "code",
   "execution_count": 17,
   "id": "a749647b",
   "metadata": {},
   "outputs": [
    {
     "data": {
      "text/plain": [
       "539                Penetration Tester\n",
       "1063    Application Security Engineer\n",
       "Name: job_title, dtype: object"
      ]
     },
     "execution_count": 17,
     "metadata": {},
     "output_type": "execute_result"
    }
   ],
   "source": [
    "df[df['salary_in_usd']==2000]['job_title']"
   ]
  },
  {
   "cell_type": "markdown",
   "id": "48222702",
   "metadata": {},
   "source": [
    "# Find out the full detail of the position who have maximum salary "
   ]
  },
  {
   "cell_type": "code",
   "execution_count": 18,
   "id": "cb8a93b7",
   "metadata": {},
   "outputs": [
    {
     "data": {
      "text/html": [
       "<div>\n",
       "<style scoped>\n",
       "    .dataframe tbody tr th:only-of-type {\n",
       "        vertical-align: middle;\n",
       "    }\n",
       "\n",
       "    .dataframe tbody tr th {\n",
       "        vertical-align: top;\n",
       "    }\n",
       "\n",
       "    .dataframe thead th {\n",
       "        text-align: right;\n",
       "    }\n",
       "</style>\n",
       "<table border=\"1\" class=\"dataframe\">\n",
       "  <thead>\n",
       "    <tr style=\"text-align: right;\">\n",
       "      <th></th>\n",
       "      <th>work_year</th>\n",
       "      <th>experience_level</th>\n",
       "      <th>employment_type</th>\n",
       "      <th>job_title</th>\n",
       "      <th>salary_in_usd</th>\n",
       "      <th>employee_residence</th>\n",
       "      <th>remote_ratio</th>\n",
       "      <th>company_location</th>\n",
       "      <th>company_size</th>\n",
       "    </tr>\n",
       "  </thead>\n",
       "  <tbody>\n",
       "    <tr>\n",
       "      <th>614</th>\n",
       "      <td>2022</td>\n",
       "      <td>SE</td>\n",
       "      <td>FT</td>\n",
       "      <td>Detection Engineer</td>\n",
       "      <td>899920</td>\n",
       "      <td>GB</td>\n",
       "      <td>100</td>\n",
       "      <td>GB</td>\n",
       "      <td>L</td>\n",
       "    </tr>\n",
       "  </tbody>\n",
       "</table>\n",
       "</div>"
      ],
      "text/plain": [
       "     work_year experience_level employment_type           job_title  \\\n",
       "614       2022               SE              FT  Detection Engineer   \n",
       "\n",
       "     salary_in_usd employee_residence  remote_ratio company_location  \\\n",
       "614         899920                 GB           100               GB   \n",
       "\n",
       "    company_size  \n",
       "614            L  "
      ]
     },
     "execution_count": 18,
     "metadata": {},
     "output_type": "execute_result"
    }
   ],
   "source": [
    "df.nlargest(1, ['salary_in_usd'])"
   ]
  },
  {
   "cell_type": "markdown",
   "id": "fa860589",
   "metadata": {},
   "source": [
    "# Find out which employment_type has highest salary "
   ]
  },
  {
   "cell_type": "code",
   "execution_count": 19,
   "id": "7f615ac4",
   "metadata": {},
   "outputs": [
    {
     "data": {
      "text/plain": [
       "array(['FT', 'PT', 'CT', 'FL'], dtype=object)"
      ]
     },
     "execution_count": 19,
     "metadata": {},
     "output_type": "execute_result"
    }
   ],
   "source": [
    "df['employment_type'].unique()"
   ]
  },
  {
   "cell_type": "code",
   "execution_count": 20,
   "id": "d9cd22e1",
   "metadata": {
    "scrolled": true
   },
   "outputs": [
    {
     "data": {
      "text/plain": [
       "[Text(0.5, 1.0, 'Salary according to employment type ')]"
      ]
     },
     "execution_count": 20,
     "metadata": {},
     "output_type": "execute_result"
    },
    {
     "data": {
      "image/png": "[encoded data removed]",
      "text/plain": [
       "<Figure size 432x288 with 1 Axes>"
      ]
     },
     "metadata": {},
     "output_type": "display_data"
    }
   ],
   "source": [
    "sns.set_style('darkgrid')\n",
    "sns.barplot(x='employment_type' , y='salary_in_usd' , data = df ).set(title = \"Salary according to employment type \")"
   ]
  },
  {
   "cell_type": "code",
   "execution_count": 21,
   "id": "6309eff7",
   "metadata": {
    "scrolled": true
   },
   "outputs": [],
   "source": [
    "# conclusion of that bargraph is highest salary are provided in FT type employment and lowest in PT "
   ]
  },
  {
   "cell_type": "code",
   "execution_count": 22,
   "id": "5900dc68",
   "metadata": {},
   "outputs": [],
   "source": [
    "#find out the in which year highest salary is paid to the employee "
   ]
  },
  {
   "cell_type": "code",
   "execution_count": 23,
   "id": "93be0f21",
   "metadata": {},
   "outputs": [
    {
     "data": {
      "text/plain": [
       "[Text(0.5, 1.0, 'Salary according to employment type ')]"
      ]
     },
     "execution_count": 23,
     "metadata": {},
     "output_type": "execute_result"
    },
    {
     "data": {
      "image/png": "[encoded data removed]",
      "text/plain": [
       "<Figure size 432x288 with 1 Axes>"
      ]
     },
     "metadata": {},
     "output_type": "display_data"
    }
   ],
   "source": [
    "sns.set_style('darkgrid')\n",
    "sns.barplot(x='work_year' , y='salary_in_usd' , data = df ).set(title = \"Salary according to employment type \")"
   ]
  },
  {
   "cell_type": "markdown",
   "id": "9e22cc7e",
   "metadata": {},
   "source": [
    "Conclusion:- In 2022 the highest amount of salary is paid to the employee and there was slight diffrence between year 2020 to 2021"
   ]
  },
  {
   "cell_type": "code",
   "execution_count": 24,
   "id": "7e3bdfd0",
   "metadata": {},
   "outputs": [
    {
     "data": {
      "text/html": [
       "<div>\n",
       "<style scoped>\n",
       "    .dataframe tbody tr th:only-of-type {\n",
       "        vertical-align: middle;\n",
       "    }\n",
       "\n",
       "    .dataframe tbody tr th {\n",
       "        vertical-align: top;\n",
       "    }\n",
       "\n",
       "    .dataframe thead th {\n",
       "        text-align: right;\n",
       "    }\n",
       "</style>\n",
       "<table border=\"1\" class=\"dataframe\">\n",
       "  <thead>\n",
       "    <tr style=\"text-align: right;\">\n",
       "      <th></th>\n",
       "      <th>work_year</th>\n",
       "      <th>experience_level</th>\n",
       "      <th>employment_type</th>\n",
       "      <th>job_title</th>\n",
       "      <th>salary_in_usd</th>\n",
       "      <th>employee_residence</th>\n",
       "      <th>remote_ratio</th>\n",
       "      <th>company_location</th>\n",
       "      <th>company_size</th>\n",
       "    </tr>\n",
       "  </thead>\n",
       "  <tbody>\n",
       "    <tr>\n",
       "      <th>0</th>\n",
       "      <td>2022</td>\n",
       "      <td>EN</td>\n",
       "      <td>FT</td>\n",
       "      <td>Information Security Officer</td>\n",
       "      <td>72762</td>\n",
       "      <td>DE</td>\n",
       "      <td>100</td>\n",
       "      <td>DE</td>\n",
       "      <td>S</td>\n",
       "    </tr>\n",
       "  </tbody>\n",
       "</table>\n",
       "</div>"
      ],
      "text/plain": [
       "   work_year experience_level employment_type                     job_title  \\\n",
       "0       2022               EN              FT  Information Security Officer   \n",
       "\n",
       "   salary_in_usd employee_residence  remote_ratio company_location  \\\n",
       "0          72762                 DE           100               DE   \n",
       "\n",
       "  company_size  \n",
       "0            S  "
      ]
     },
     "execution_count": 24,
     "metadata": {},
     "output_type": "execute_result"
    }
   ],
   "source": [
    "df.head(1)"
   ]
  },
  {
   "cell_type": "markdown",
   "id": "d0a7c26e",
   "metadata": {},
   "source": [
    "# Find out which type of experince_level had less salary and which has maximum salary "
   ]
  },
  {
   "cell_type": "code",
   "execution_count": 25,
   "id": "38c17bea",
   "metadata": {},
   "outputs": [
    {
     "data": {
      "text/plain": [
       "array(['EN', 'SE', 'MI', 'EX'], dtype=object)"
      ]
     },
     "execution_count": 25,
     "metadata": {},
     "output_type": "execute_result"
    }
   ],
   "source": [
    "df['experience_level'].unique()"
   ]
  },
  {
   "cell_type": "markdown",
   "id": "9a04d7e3",
   "metadata": {},
   "source": [
    " [ EN - Entry level / Junior, MI - Mid level / Intermediate, SE - Senior level / Expert, EX - Executive level / Director ]"
   ]
  },
  {
   "cell_type": "code",
   "execution_count": 26,
   "id": "c7a4a70f",
   "metadata": {},
   "outputs": [
    {
     "data": {
      "text/plain": [
       "(array([0, 1, 2, 3]),\n",
       " [Text(0, 0, 'EN'), Text(1, 0, 'SE'), Text(2, 0, 'MI'), Text(3, 0, 'EX')])"
      ]
     },
     "execution_count": 26,
     "metadata": {},
     "output_type": "execute_result"
    },
    {
     "data": {
      "image/png": "[encoded data removed]",
      "text/plain": [
       "<Figure size 432x288 with 1 Axes>"
      ]
     },
     "metadata": {},
     "output_type": "display_data"
    }
   ],
   "source": [
    "sns.set_style(\"darkgrid\")\n",
    "\n",
    "sns.barplot(x=\"experience_level\" , y=\"salary_in_usd\" , data=df ).set(title=\"Salary According to experience Level\")\n",
    "plt.xticks(rotation=45)"
   ]
  },
  {
   "cell_type": "markdown",
   "id": "2f1a3c02",
   "metadata": {},
   "source": [
    "conclusion:- Ex level has highest salary \n",
    "EN level has lowest salary \n"
   ]
  },
  {
   "cell_type": "markdown",
   "id": "c09c5368",
   "metadata": {},
   "source": [
    "# Where is the highest and lowest paying company is located ?"
   ]
  },
  {
   "cell_type": "code",
   "execution_count": 27,
   "id": "d6140c67",
   "metadata": {},
   "outputs": [
    {
     "data": {
      "text/plain": [
       "614    GB\n",
       "Name: company_location, dtype: object"
      ]
     },
     "execution_count": 27,
     "metadata": {},
     "output_type": "execute_result"
    }
   ],
   "source": [
    "df[df['salary_in_usd']==899920]['company_location']"
   ]
  },
  {
   "cell_type": "code",
   "execution_count": 28,
   "id": "0d1d2713",
   "metadata": {},
   "outputs": [
    {
     "data": {
      "text/plain": [
       "539     RO\n",
       "1063    VN\n",
       "Name: company_location, dtype: object"
      ]
     },
     "execution_count": 28,
     "metadata": {},
     "output_type": "execute_result"
    }
   ],
   "source": [
    "df[df['salary_in_usd']==2000]['company_location']"
   ]
  },
  {
   "cell_type": "markdown",
   "id": "5e9ddc1a",
   "metadata": {},
   "source": [
    "The higest paying company was located in GB=United Kingdom of Great Britain and Northern Ireland and there are two lowest\n",
    "paying company one  was located in RO=Romania and another was located in VN=Vietnam\n"
   ]
  },
  {
   "cell_type": "code",
   "execution_count": 29,
   "id": "e3745379",
   "metadata": {},
   "outputs": [],
   "source": [
    "# what is the average salary "
   ]
  },
  {
   "cell_type": "code",
   "execution_count": 30,
   "id": "519fafd2",
   "metadata": {},
   "outputs": [
    {
     "data": {
      "text/plain": [
       "count      1349.000000\n",
       "mean     121578.622683\n",
       "std       68972.954838\n",
       "min        2000.000000\n",
       "25%       75000.000000\n",
       "50%      115000.000000\n",
       "75%      152000.000000\n",
       "max      899920.000000\n",
       "Name: salary_in_usd, dtype: float64"
      ]
     },
     "execution_count": 30,
     "metadata": {},
     "output_type": "execute_result"
    }
   ],
   "source": [
    "df['salary_in_usd'].describe()"
   ]
  },
  {
   "cell_type": "code",
   "execution_count": 31,
   "id": "c463f16d",
   "metadata": {},
   "outputs": [
    {
     "data": {
      "text/plain": [
       "work_year             12\n",
       "experience_level      12\n",
       "employment_type       12\n",
       "job_title             12\n",
       "salary_in_usd         12\n",
       "employee_residence    12\n",
       "remote_ratio          12\n",
       "company_location      12\n",
       "company_size          12\n",
       "dtype: int64"
      ]
     },
     "execution_count": 31,
     "metadata": {},
     "output_type": "execute_result"
    }
   ],
   "source": [
    "df[df['salary_in_usd']==115000].count()"
   ]
  },
  {
   "cell_type": "code",
   "execution_count": 32,
   "id": "cda6adcd",
   "metadata": {},
   "outputs": [],
   "source": [
    "# there are total 12 company which are paying the salary 115000"
   ]
  },
  {
   "cell_type": "markdown",
   "id": "4dc312b0",
   "metadata": {},
   "source": [
    "# Find out the total number of employe which are getting  salary between 2000 to 115000"
   ]
  },
  {
   "cell_type": "code",
   "execution_count": 33,
   "id": "004b1dfe",
   "metadata": {},
   "outputs": [
    {
     "data": {
      "text/plain": [
       "work_year             681\n",
       "experience_level      681\n",
       "employment_type       681\n",
       "job_title             681\n",
       "salary_in_usd         681\n",
       "employee_residence    681\n",
       "remote_ratio          681\n",
       "company_location      681\n",
       "company_size          681\n",
       "dtype: int64"
      ]
     },
     "execution_count": 33,
     "metadata": {},
     "output_type": "execute_result"
    }
   ],
   "source": [
    "# now we are using between method \n",
    "df[df['salary_in_usd'].between(2000 , 115000)].count()"
   ]
  },
  {
   "cell_type": "markdown",
   "id": "9d0e11e9",
   "metadata": {},
   "source": [
    "# so there are 681 employee which are getting the salary between 2000 to 115000"
   ]
  },
  {
   "cell_type": "markdown",
   "id": "25509437",
   "metadata": {},
   "source": [
    "# Find the total number of employee which are getting the salary less than 2000 and their job title "
   ]
  },
  {
   "cell_type": "code",
   "execution_count": 34,
   "id": "a51bc335",
   "metadata": {},
   "outputs": [
    {
     "data": {
      "text/plain": [
       "539                Penetration Tester\n",
       "1063    Application Security Engineer\n",
       "Name: job_title, dtype: object"
      ]
     },
     "execution_count": 34,
     "metadata": {},
     "output_type": "execute_result"
    }
   ],
   "source": [
    "df[df['salary_in_usd'].between(0,2000)]['job_title']"
   ]
  },
  {
   "cell_type": "markdown",
   "id": "346711fe",
   "metadata": {},
   "source": [
    "so there are two employee and their job title are Penetration Tester and Application Security Engineer"
   ]
  },
  {
   "cell_type": "code",
   "execution_count": 35,
   "id": "e1dd0065",
   "metadata": {},
   "outputs": [
    {
     "data": {
      "text/plain": [
       "Index(['work_year', 'experience_level', 'employment_type', 'job_title',\n",
       "       'salary_in_usd', 'employee_residence', 'remote_ratio',\n",
       "       'company_location', 'company_size'],\n",
       "      dtype='object')"
      ]
     },
     "execution_count": 35,
     "metadata": {},
     "output_type": "execute_result"
    }
   ],
   "source": [
    "df.columns "
   ]
  },
  {
   "cell_type": "code",
   "execution_count": 36,
   "id": "3a8edab8",
   "metadata": {},
   "outputs": [],
   "source": [
    "# what are salary distribution among the remote_ratio"
   ]
  },
  {
   "cell_type": "code",
   "execution_count": 37,
   "id": "4e044991",
   "metadata": {},
   "outputs": [
    {
     "data": {
      "text/plain": [
       "(array([0, 1, 2]), [Text(0, 0, '0'), Text(1, 0, '50'), Text(2, 0, '100')])"
      ]
     },
     "execution_count": 37,
     "metadata": {},
     "output_type": "execute_result"
    },
    {
     "data": {
      "image/png": "[encoded data removed]",
      "text/plain": [
       "<Figure size 432x288 with 1 Axes>"
      ]
     },
     "metadata": {},
     "output_type": "display_data"
    }
   ],
   "source": [
    "sns.set_style(\"darkgrid\")\n",
    "\n",
    "sns.barplot(x=\"remote_ratio\" , y=\"salary_in_usd\" , data=df ).set(title=\"Salary According to remote_ratio\")\n",
    "plt.xticks(rotation=45)"
   ]
  },
  {
   "cell_type": "markdown",
   "id": "9eb780bf",
   "metadata": {},
   "source": [
    "0 - No Remote Work (less than 20%), 50 - Partially Remote, 100 - Fully Remote (more than 80%)\n",
    "those who have fully remote acess are getting more salary and  there are less difference between parial remote and no remote work employee "
   ]
  },
  {
   "cell_type": "markdown",
   "id": "4a2e27ab",
   "metadata": {},
   "source": [
    "# Which type of company was paying maximum salary "
   ]
  },
  {
   "cell_type": "code",
   "execution_count": 38,
   "id": "a6df3838",
   "metadata": {},
   "outputs": [
    {
     "data": {
      "text/plain": [
       "(array([0, 1, 2]), [Text(0, 0, 'S'), Text(1, 0, 'M'), Text(2, 0, 'L')])"
      ]
     },
     "execution_count": 38,
     "metadata": {},
     "output_type": "execute_result"
    },
    {
     "data": {
      "image/png": "[encoded data removed]",
      "text/plain": [
       "<Figure size 432x288 with 1 Axes>"
      ]
     },
     "metadata": {},
     "output_type": "display_data"
    }
   ],
   "source": [
    "sns.set_style(\"darkgrid\")\n",
    "sns.barplot(x=\"company_size\" , y=\"salary_in_usd\" ,  data=df).set(title =\"Salary according to company size\")\n",
    "plt.xticks(rotation=45)"
   ]
  },
  {
   "cell_type": "markdown",
   "id": "f8ab85c0",
   "metadata": {},
   "source": [
    "The medium size company was paying more salary as compared to large and size company"
   ]
  },
  {
   "cell_type": "markdown",
   "id": "c2e7c737",
   "metadata": {},
   "source": [
    "# Find the total number of employe who lived in US "
   ]
  },
  {
   "cell_type": "code",
   "execution_count": 39,
   "id": "2433e985",
   "metadata": {},
   "outputs": [
    {
     "data": {
      "text/plain": [
       "array(['DE', 'US', 'CY', 'BA', 'GB', 'CA', 'IN', 'FR', 'ES', 'BR', 'BW',\n",
       "       'TW', 'NL', 'AE', 'CH', 'DK', 'CL', 'SG', 'AU', 'IT', 'PK', 'GR',\n",
       "       'GH', 'AZ', 'RO', 'AR', 'DZ', 'AF', 'SI', 'HR', 'SE', 'HU', 'ET',\n",
       "       'MX', 'IL', 'IE', 'PL', 'CR', 'JP', 'PT', 'NG', 'NO', 'CZ', 'ID',\n",
       "       'EE', 'KG', 'KE', 'BG', 'IR', 'NZ', 'BE', 'ZA', 'AT', 'LU', 'EG',\n",
       "       'VN', 'SA', 'LT', 'RU', 'TR'], dtype=object)"
      ]
     },
     "execution_count": 39,
     "metadata": {},
     "output_type": "execute_result"
    }
   ],
   "source": [
    "df['employee_residence'].unique()"
   ]
  },
  {
   "cell_type": "code",
   "execution_count": 40,
   "id": "66be1c93",
   "metadata": {},
   "outputs": [
    {
     "data": {
      "text/plain": [
       "work_year             940\n",
       "experience_level      940\n",
       "employment_type       940\n",
       "job_title             940\n",
       "salary_in_usd         940\n",
       "employee_residence    940\n",
       "remote_ratio          940\n",
       "company_location      940\n",
       "company_size          940\n",
       "dtype: int64"
      ]
     },
     "execution_count": 40,
     "metadata": {},
     "output_type": "execute_result"
    }
   ],
   "source": [
    "df[df['employee_residence']=='US'].count()"
   ]
  },
  {
   "cell_type": "markdown",
   "id": "54a034c2",
   "metadata": {},
   "source": [
    "So there are 940 employee who lived in US "
   ]
  },
  {
   "cell_type": "markdown",
   "id": "be2f9b1b",
   "metadata": {},
   "source": [
    "# Find the total number of commpany which was located in GB and US"
   ]
  },
  {
   "cell_type": "code",
   "execution_count": 41,
   "id": "f8d07647",
   "metadata": {},
   "outputs": [
    {
     "data": {
      "text/plain": [
       "work_year             61\n",
       "experience_level      61\n",
       "employment_type       61\n",
       "job_title             61\n",
       "salary_in_usd         61\n",
       "employee_residence    61\n",
       "remote_ratio          61\n",
       "company_location      61\n",
       "company_size          61\n",
       "dtype: int64"
      ]
     },
     "execution_count": 41,
     "metadata": {},
     "output_type": "execute_result"
    }
   ],
   "source": [
    "df[df['company_location']==\"GB\"].count()"
   ]
  },
  {
   "cell_type": "code",
   "execution_count": 42,
   "id": "e48e6c91",
   "metadata": {},
   "outputs": [
    {
     "data": {
      "text/plain": [
       "work_year             965\n",
       "experience_level      965\n",
       "employment_type       965\n",
       "job_title             965\n",
       "salary_in_usd         965\n",
       "employee_residence    965\n",
       "remote_ratio          965\n",
       "company_location      965\n",
       "company_size          965\n",
       "dtype: int64"
      ]
     },
     "execution_count": 42,
     "metadata": {},
     "output_type": "execute_result"
    }
   ],
   "source": [
    "df[df['company_location']=='US'].count()"
   ]
  },
  {
   "cell_type": "markdown",
   "id": "be449055",
   "metadata": {},
   "source": [
    "there are total 61 company which are in GB and 965 company which are in US"
   ]
  },
  {
   "cell_type": "markdown",
   "id": "1583713c",
   "metadata": {},
   "source": [
    "# Find the total number of small , large and medium company "
   ]
  },
  {
   "cell_type": "code",
   "execution_count": 43,
   "id": "858e5ae5",
   "metadata": {},
   "outputs": [
    {
     "data": {
      "text/plain": [
       "work_year             92\n",
       "experience_level      92\n",
       "employment_type       92\n",
       "job_title             92\n",
       "salary_in_usd         92\n",
       "employee_residence    92\n",
       "remote_ratio          92\n",
       "company_location      92\n",
       "company_size          92\n",
       "dtype: int64"
      ]
     },
     "execution_count": 43,
     "metadata": {},
     "output_type": "execute_result"
    }
   ],
   "source": [
    "df[df['company_size']==\"S\"].count()"
   ]
  },
  {
   "cell_type": "code",
   "execution_count": 44,
   "id": "3692556f",
   "metadata": {},
   "outputs": [
    {
     "data": {
      "text/plain": [
       "work_year             459\n",
       "experience_level      459\n",
       "employment_type       459\n",
       "job_title             459\n",
       "salary_in_usd         459\n",
       "employee_residence    459\n",
       "remote_ratio          459\n",
       "company_location      459\n",
       "company_size          459\n",
       "dtype: int64"
      ]
     },
     "execution_count": 44,
     "metadata": {},
     "output_type": "execute_result"
    }
   ],
   "source": [
    "df[df['company_size']==\"M\"].count()"
   ]
  },
  {
   "cell_type": "code",
   "execution_count": 45,
   "id": "0ad568b8",
   "metadata": {},
   "outputs": [
    {
     "data": {
      "text/plain": [
       "work_year             798\n",
       "experience_level      798\n",
       "employment_type       798\n",
       "job_title             798\n",
       "salary_in_usd         798\n",
       "employee_residence    798\n",
       "remote_ratio          798\n",
       "company_location      798\n",
       "company_size          798\n",
       "dtype: int64"
      ]
     },
     "execution_count": 45,
     "metadata": {},
     "output_type": "execute_result"
    }
   ],
   "source": [
    "df[df['company_size']==\"L\"].count()"
   ]
  },
  {
   "cell_type": "markdown",
   "id": "daab8545",
   "metadata": {},
   "source": [
    "So there are 798 Large  , 459 Medium , and 92 Small company are in our data set"
   ]
  },
  {
   "cell_type": "code",
   "execution_count": 46,
   "id": "ce29f323",
   "metadata": {},
   "outputs": [],
   "source": [
    "# so i have perform some data analysis process by creating some question on that dataset by my own and i hope i have done everything right and if \n",
    "# i have done anything wrong please let me know "
   ]
  },
  {
   "cell_type": "code",
   "execution_count": null,
   "id": "be382c42",
   "metadata": {},
   "outputs": [],
   "source": []
  }
 ],
 "metadata": {
  "kernelspec": {
   "display_name": "Python 3 (ipykernel)",
   "language": "python",
   "name": "python3"
  },
  "language_info": {
   "codemirror_mode": {
    "name": "ipython",
    "version": 3
   },
   "file_extension": ".py",
   "mimetype": "text/x-python",
   "name": "python",
   "nbconvert_exporter": "python",
   "pygments_lexer": "ipython3",
   "version": "3.9.12"
  }
 },
 "nbformat": 4,
 "nbformat_minor": 5
}
